{
 "cells": [
  {
   "cell_type": "code",
   "execution_count": 1,
   "metadata": {},
   "outputs": [],
   "source": [
    "import langchain\n",
    "import json\n",
    "from langchain_community.llms import Ollama\n",
    "from langchain.prompts import ChatPromptTemplate\n",
    "from langchain_community.tools.pubmed.tool import PubmedQueryRun\n",
    "from Bio import Entrez"
   ]
  },
  {
   "cell_type": "markdown",
   "metadata": {},
   "source": [
    "Test LLM"
   ]
  },
  {
   "cell_type": "code",
   "execution_count": 2,
   "metadata": {},
   "outputs": [],
   "source": [
    "llm = Ollama(model='llama3',temperature=0.1,base_url='http://192.168.0.64:11434')"
   ]
  },
  {
   "cell_type": "markdown",
   "metadata": {},
   "source": [
    "Generar search queries"
   ]
  },
  {
   "cell_type": "code",
   "execution_count": 3,
   "metadata": {},
   "outputs": [],
   "source": [
    "symptoms = \"Ayer entrené en el gimnasio y tengo un hormigueo que me empieza en la parte baja de la espalda y baja por la pierna derecha.\"\n",
    "\n",
    "pm_search_prompt = 'Eres un investigador avanzado en fisioterapia. Tu tarea es buscar papers en PubMed para encontrar un \\\n",
    "                    diagnóstico y tratamiento de fisioterapia para los siguientes síntomas: \"{symptoms}\" \\\n",
    "                    Dime 10 entradas de búsqueda que pondrías en la web de pubmed para encontrar papers sobre los síntomas. \\\n",
    "                    No emplees combinaciones como OR o AND, dime únicamente las palabras clave de búsqueda.\\\n",
    "                    Devuelve únicamente las entradas de búsqueda como una lista de python, no digas nada más'\n",
    "\n",
    "pm_search_template = ChatPromptTemplate.from_template(pm_search_prompt)"
   ]
  },
  {
   "cell_type": "markdown",
   "metadata": {},
   "source": [
    "Function to search pubmed articles"
   ]
  },
  {
   "cell_type": "code",
   "execution_count": 4,
   "metadata": {},
   "outputs": [
    {
     "name": "stdout",
     "output_type": "stream",
     "text": [
      "['lower back pain', 'post-exercise soreness', 'delayed onset muscle soreness', 'DOMS', 'lumbar region', 'gluteal region', 'right lower extremity', 'exercise-induced muscle soreness', 'muscle strain', 'soft tissue injury']\n"
     ]
    }
   ],
   "source": [
    "def generate_search(pm_search_template,symptoms,llm):\n",
    "    pm_search_llm = pm_search_template | llm\n",
    "    search_entries = pm_search_llm.invoke({'symptoms':symptoms})\n",
    "    return search_entries\n",
    "search_entries = generate_search(pm_search_template,symptoms,llm).replace('[','').replace(']','').replace(\"'\",\"\").split(', ')\n",
    "print(search_entries)"
   ]
  },
  {
   "cell_type": "markdown",
   "metadata": {},
   "source": [
    "Search in pubmed API"
   ]
  },
  {
   "cell_type": "code",
   "execution_count": 5,
   "metadata": {},
   "outputs": [
    {
     "name": "stdout",
     "output_type": "stream",
     "text": [
      "1) Neck Pain and Lower Back Pain.\n",
      "2) Chronic Lower Back Pain in Weight Lifters: Epidemiology, Evaluation, and Management.\n",
      "3) Clinical outcomes and cost-effectiveness of massage chair therapy versus basic physiotherapy in lower back pain patients: A randomized controlled trial.\n",
      "4) Acute Lumbar Back Pain.\n",
      "5) Treatment and ergonomics training of work-related lower back pain and body posture problems for nurses.\n"
     ]
    }
   ],
   "source": [
    "def search(entry):\n",
    "    Entrez.email = 'oscarvallslozano@gmail.com'\n",
    "    handle = Entrez.esearch(db='pubmed',\n",
    "                            sort='relevance',\n",
    "                            retmax='5',\n",
    "                            retmode='xml',\n",
    "                            term=entry)\n",
    "    results = Entrez.read(handle)\n",
    "    return results\n",
    "\n",
    "def fetch_details(id_list):\n",
    "    ids = ','.join(id_list)\n",
    "    Entrez.email = 'oscarvallslozano@gmail.com'\n",
    "    handle = Entrez.efetch(db='pubmed',\n",
    "                           retmode='xml',\n",
    "                           id=ids)\n",
    "    results = Entrez.read(handle)\n",
    "    return results\n",
    "\n",
    "\n",
    "results = search(search_entries[0])\n",
    "id_list = results['IdList']\n",
    "papers = fetch_details(id_list)\n",
    "for i, paper in enumerate(papers['PubmedArticle']):\n",
    "        print(\"{}) {}\".format(i+1, paper['MedlineCitation']['Article']['ArticleTitle']))\n"
   ]
  },
  {
   "cell_type": "code",
   "execution_count": 38,
   "metadata": {},
   "outputs": [
    {
     "name": "stdout",
     "output_type": "stream",
     "text": [
      "['Neck pain is the fourth leading cause of disability. Acute neck pain largely resolves within 2\\xa0months. History and physical examination play a key role in ruling out some of the more serious causes for neck pain. The evidence for pharmacologic interventions for acute and chronic musculoskeletal neck pain is limited. Lower back pain is the leading cause of disability and productivity loss. Consultation with a physical medicine and rehabilitation spine specialist within 48\\xa0hours for acute pain and within 10\\xa0days for all patients with lower back pain may significantly decrease rate of surgical interventions and increase patient satisfaction.']\n",
      "[\"» Chronic lower back pain (LBP) is common in both nonathletes and weight lifters, but the diagnosis and treatment should be approached differently in these 2 populations based on the unique movement patterns causing the pain.» Injury rates of weight lifters are far less than those of contact sports, ranging from 1.0 to 4.4 injuries per 1,000 workout hours. However, the lower back was consistently one of the top 2 injury sites for weight lifters, accounting for anywhere from 23% to 59% of all injuries. LBP was most often associated with the squat or deadlift.» Guidelines for evaluating general LBP are applicable to weight lifters, including a thorough history and physical examination. However, the differential diagnosis will change based on the patient's lifting history. Of the many etiologies of back pain, weight lifters are most likely to be diagnosed with muscle strain or ligamentous sprain, degenerative disk disease, disk herniation, spondylolysis, spondylolisthesis, or lumbar facet syndrome.» Traditional recommended therapies include nonsteroidal anti-inflammatory drugs, physical therapy, and activity modification, which are often insufficient to resolve pain and prevent injury recurrence. Because most athletes will want to continue to lift weights, lifting-specific behavior modifications focused on improved technique and correcting mobility and muscular imbalances are important aspects of management in this patient population.\"]\n",
      "[StringElement(\"Low back pain is a chronic recurrent symptom, which can lower the patient's quality of life. With technological development of automated home massage systems, now offers a promising alternative to physiotherapy. However, thus far, the effectiveness of such methods has not been evaluated. We aimed to compare the efficacy and cost-effectiveness of a massage chair with those of conventional physiotherapy for the treatment.\", attributes={'Label': 'INTRODUCTION', 'NlmCategory': 'BACKGROUND'}), StringElement('This was a randomized controlled trial with a two-group parallel design. Following randomization and allocation, 56 participants were enrolled to receive either physiotherapy (n\\u200a=\\u200a25) or mechanical massage using the massage chair (n\\u200a=\\u200a31). Pain severity was measured using a visual analog scale (VAS) and satisfaction assessed with the McGill Pain Questionnaire (MPQ). Quality of life modification was analyzed using the Functional Rating Index (FRI). Cost-effectiveness was analyzed by comparing the sum of physiotherapy fees and monthly rental fees for chair massage.', attributes={'Label': 'METHODS', 'NlmCategory': 'METHODS'}), StringElement('Physiotherapy and massage chair were both effective for pain control as assessed with the VAS (P\\u200a<\\u200a.001), satisfaction as assessed by MPQ (P\\u200a<\\u200a.001) and life quality improvement as assessed by FRI (P\\u200a<\\u200a.001) in both groups. Both VAS and FRI scores were significantly higher for physiotherapy than for massage chair (P\\u200a=\\u200a.03 and P\\u200a=\\u200a.03, respectively). There was no significant difference in MPQ between the two groups. Massage chair therapy was more cost-effective than physiotherapy, at only 60.17% of the physiotherapy cost (P\\u200a<\\u200a.001).', attributes={'Label': 'RESULTS', 'NlmCategory': 'RESULTS'}), StringElement('The home massage chair system was cost-effective, but pain control and disability improved more with physiotherapy. However, our results showed that the massage chair is a promising treatment for pain control and quality of life modification, but efficacy is still superior in physiotherapy and the chair is not a replacement for physiotherapy.', attributes={'Label': 'CONCLUSIONS', 'NlmCategory': 'CONCLUSIONS'}), StringElement('Clinical Research Information Service, KCT0003157. Retrospectively registered August 2, 2018.', attributes={'Label': 'TRIAL REGISTRATION', 'NlmCategory': 'BACKGROUND'})]\n",
      "[StringElement('Back pain has many causes. In Germany, about 70% of adults have at least one episode of back pain per year.', attributes={'Label': 'BACKGROUND'}), StringElement('This review is based on a selective literature search and on the German National Disease Management Guideline for Low Back Pain.', attributes={'Label': 'METHODS'}), StringElement('The physician taking the history from a patient with back pain should ask about the nature, onset, course, localization, and radiation of the pain and its dependence on physical activity and/or emotional stress. In the differential diagnosis, neurologic deficits and any \"red flags\" suggesting dangerous conditions such as spinal fracture, bacterial infection, and tumors must be ruled out. If no specific cause of the pain can be identified, no imaging studies are indicated on initial presentation. The treatment of acute, nonspecific low back pain focuses on pain relief and functional improvement. Adequate patient education and counseling are essential. Exercise therapy is no more effective than the continuation of normal daily activities. Restriction of activity, including bed rest, is of no benefit and merely prolongs recovery and the resumption of normal activity. Further diagnostic testing is indicated if there is any suspicion of a fracture, infection, or tumor.', attributes={'Label': 'RESULTS'}), StringElement('After dangerous conditions have been ruled out, low back pain can be pragmatically classified as either nonspecific or specific. More research is needed so that the diagnostic assessment and individualized treatment of acute lower back pain can be further refined.', attributes={'Label': 'CONCLUSION'})]\n",
      "[StringElement('The purpose of the study was to measure the effectiveness of a spine training programme (Back School) in nurses who have been living with chronic low back pain. It was hypothesised that active therapy, ergonomics and education called Back School will significantly decrease the pain intensity levels and improve the body posture of the study participants.', attributes={'Label': 'AIMS', 'NlmCategory': 'OBJECTIVE'}), StringElement(\"A chronic low back pain is a significant work-related health problem among healthcare workers around the world. Proper body posture is essential for decreasing pain in healthcare workers who have history of chronic low back pain. By teaching proper body posture and with the creation of occupational settings that are 'spine-friendly' hospitals and other healthcare settings can significantly lower the suffering of their nursing staff.\", attributes={'Label': 'BACKGROUND', 'NlmCategory': 'BACKGROUND'}), StringElement('Single-blinded randomised controlled trial was utilised with six- and 12-months follow-up.', attributes={'Label': 'DESIGN', 'NlmCategory': 'METHODS'}), StringElement('The study was carried out at the University of Pecs, Faculty of Health Sciences from 2007 to 2008 involving 124 nurses with low back pain. Participants were randomly assigned to the study group (who have received ergonomics training and education called Back School) with an intervention conducted once a week for a six-week period. The control group received passive physiotherapy once a week for a six-week period. Further follow-up measurements were conducted at six and 12 months, respectively. The study variables and outcome measures were pain intensity and body posture (angle of thoracic kyphosis and lumbar lordosis). The pain intensity was investigated with the Visual Analogue Scale. Body posture was recorded and analysed with the Zebris biomechanical motion analysis system.', attributes={'Label': 'METHODS', 'NlmCategory': 'METHODS'}), StringElement('The statistical analysis of repeated measures indicated a significant decrease in back pain intensity after the therapy in both groups, compared with measurements before the therapy; however, the BS group showed significantly better results during the six-month and one-year follow-up period. The biomechanical analysis of postures after the therapy in the BS group showed significant improvements over the control group; during the follow-up, the difference was still significant, yet slightly reduced.', attributes={'Label': 'RESULTS', 'NlmCategory': 'RESULTS'}), StringElement('This study has shown that a significant reduction in the pain intensity and improvement in body posture can be achieved by the usage of the active physical therapy methods (Back School) in nurses who are experiencing chronic lower back pain.', attributes={'Label': 'CONCLUSIONS', 'NlmCategory': 'CONCLUSIONS'}), StringElement('The Back School programme when compared with the passive physical therapies (such as massage, ultrasound treatment, etc.) shows significant improvement in reduction in pain and greatly improves the posture of healthcare workers. The adoption of the Back School programme for the treatment of the healthcare workers with chronic low back problems should be a treatment of choice and standard that should be adopted when designing occupational healthcare policies and procedures.', attributes={'Label': 'RELEVANCE TO CLINICAL PRACTICE', 'NlmCategory': 'CONCLUSIONS'})]\n"
     ]
    }
   ],
   "source": [
    "for paper in papers['PubmedArticle']:\n",
    "    print(paper['MedlineCitation']['Article']['Abstract']['AbstractText'])"
   ]
  }
 ],
 "metadata": {
  "kernelspec": {
   "display_name": "Python 3",
   "language": "python",
   "name": "python3"
  },
  "language_info": {
   "codemirror_mode": {
    "name": "ipython",
    "version": 3
   },
   "file_extension": ".py",
   "mimetype": "text/x-python",
   "name": "python",
   "nbconvert_exporter": "python",
   "pygments_lexer": "ipython3",
   "version": "3.10.12"
  }
 },
 "nbformat": 4,
 "nbformat_minor": 2
}
