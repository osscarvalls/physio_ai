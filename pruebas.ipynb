{
 "cells": [
  {
   "cell_type": "code",
   "execution_count": 28,
   "metadata": {},
   "outputs": [],
   "source": [
    "import langchain\n",
    "import json\n",
    "from langchain_community.llms import Ollama\n",
    "from langchain.prompts import ChatPromptTemplate\n",
    "from langchain_community.tools.pubmed.tool import PubmedQueryRun\n",
    "from Bio import Entrez"
   ]
  },
  {
   "cell_type": "markdown",
   "metadata": {},
   "source": [
    "Test LLM"
   ]
  },
  {
   "cell_type": "code",
   "execution_count": 29,
   "metadata": {},
   "outputs": [],
   "source": [
    "llm = Ollama(model='llama3',temperature=0.1,base_url='http://192.168.0.64:11434')"
   ]
  },
  {
   "cell_type": "markdown",
   "metadata": {},
   "source": [
    "Generar search queries"
   ]
  },
  {
   "cell_type": "code",
   "execution_count": 30,
   "metadata": {},
   "outputs": [],
   "source": [
    "symptoms = \"Ayer entrené en el gimnasio y tengo un hormigueo que me empieza en la parte baja de la espalda y baja por la pierna derecha.\"\n",
    "\n",
    "pm_search_prompt = 'Eres un investigador avanzado en fisioterapia. Tu tarea es buscar papers en PubMed para encontrar un \\\n",
    "                    diagnóstico y tratamiento de fisioterapia para los siguientes síntomas: \"{symptoms}\" \\\n",
    "                    Dime 10 entradas de búsqueda que pondrías en la web de pubmed para encontrar papers sobre los síntomas. \\\n",
    "                    No emplees combinaciones como OR o AND, dime únicamente las palabras clave de búsqueda.\\\n",
    "                    Devuelve únicamente las entradas de búsqueda como una lista de python, no digas nada más'\n",
    "\n",
    "pm_search_template = ChatPromptTemplate.from_template(pm_search_prompt)"
   ]
  },
  {
   "cell_type": "markdown",
   "metadata": {},
   "source": [
    "Function to search pubmed articles"
   ]
  },
  {
   "cell_type": "code",
   "execution_count": 31,
   "metadata": {},
   "outputs": [
    {
     "name": "stdout",
     "output_type": "stream",
     "text": [
      "['lower back pain', 'post-exercise soreness', 'delayed onset muscle soreness', 'DOMS', 'lumbar spine', 'gluteal region', 'hip pain', 'leg pain', 'exercise-induced muscle soreness', 'muscle strain', 'spinal stiffness']\n"
     ]
    }
   ],
   "source": [
    "def generate_search(pm_search_template,symptoms,llm):\n",
    "    pm_search_llm = pm_search_template | llm\n",
    "    search_entries = pm_search_llm.invoke({'symptoms':symptoms})\n",
    "    return search_entries\n",
    "search_entries = generate_search(pm_search_template,symptoms,llm).replace('[','').replace(']','').replace(\"'\",\"\").split(', ')\n",
    "print(search_entries)"
   ]
  },
  {
   "cell_type": "markdown",
   "metadata": {},
   "source": [
    "Search in pubmed API"
   ]
  },
  {
   "cell_type": "code",
   "execution_count": 32,
   "metadata": {},
   "outputs": [
    {
     "name": "stdout",
     "output_type": "stream",
     "text": [
      "1) Neck Pain and Lower Back Pain.\n",
      "2) Clinical outcomes and cost-effectiveness of massage chair therapy versus basic physiotherapy in lower back pain patients: A randomized controlled trial.\n",
      "3) Treatment and ergonomics training of work-related lower back pain and body posture problems for nurses.\n",
      "4) Acute Lumbar Back Pain.\n",
      "5) Hypnosis As A Therapy for Chronic Lower Back Pain.\n"
     ]
    }
   ],
   "source": [
    "def search(entry):\n",
    "    Entrez.email = 'oscarvallslozano@gmail.com'\n",
    "    handle = Entrez.esearch(db='pubmed',\n",
    "                            sort='relevance',\n",
    "                            retmax='5',\n",
    "                            retmode='xml',\n",
    "                            term=entry)\n",
    "    results = Entrez.read(handle)\n",
    "    return results\n",
    "\n",
    "def fetch_details(id_list):\n",
    "    ids = ','.join(id_list)\n",
    "    Entrez.email = 'oscarvallslozano@gmail.com'\n",
    "    handle = Entrez.efetch(db='pubmed',\n",
    "                           retmode='xml',\n",
    "                           id=ids)\n",
    "    results = Entrez.read(handle)\n",
    "    return results\n",
    "\n",
    "\n",
    "results = search(search_entries[0])\n",
    "id_list = results['IdList']\n",
    "papers = fetch_details(id_list)\n",
    "for i, paper in enumerate(papers['PubmedArticle']):\n",
    "        print(\"{}) {}\".format(i+1, paper['MedlineCitation']['Article']['ArticleTitle']))\n"
   ]
  },
  {
   "cell_type": "code",
   "execution_count": 13,
   "metadata": {},
   "outputs": [
    {
     "name": "stdout",
     "output_type": "stream",
     "text": [
      "Published: --\n",
      "Title: Research hotspots and trends of complementary and alternative therapy for neuropathic pain: A bibliometric analysis.\n",
      "Copyright Information: Copyright © 2024 the Author(s). Published by Wolters Kluwer Health, Inc.\n",
      "Summary::\n",
      "BACKGROUND: Neuropathic pain (NP) is a common type of pain in clinic. Due to the limited effect of drug treatment, many patients with NP are still troubled by this disease. In recent years, complementary and alternative therapy (CAT) has shown good efficacy in the treatment of NP. As the interest in CAT for NP continues to grow, we conducted a bibliometric study of publications on CAT treatment for NP. The aim of this study is to analyze the development overview, research hotspots and future trends in the field of CAT and NP through bibliometric methodology, so as to provide a reference for subsequent researchers.\n",
      "METHODS: Publications on CAT in the treatment of NP from 2002 to 2022 were retrieved from the Web of Science Core Collection. Relevant countries, institutions, authors, journals, keywords, and references were analyzed bibliometrically using Microsoft Excel 2021, bibliometric platform, VOSviewer, and CiteSpace.\n",
      "RESULTS: A total of 898 articles from 46 countries were published in 324 journals, and they were contributed by 4455 authors from 1102 institutions. The most influential country and institution are China (n = 445) and Kyung Hee University (n = 63), respectively. Fang JQ (n = 27) and Evidence-Based Complementary and Alternative Medicine (n = 63) are the author and journal with the most publications in this field. The clinical efficacy, molecular biological mechanisms and safety of CAT for NP are currently hot directions. Low back pain, postherpetic neuralgia, acupuncture, and herbal are the hot topics in CAT and NP in recent years.\n",
      "CONCLUSION: This study reveals the current status and hotspots of CAT for NP. The study also indicates that the effectiveness and effect mechanism of acupuncture or herbs for treating\n"
     ]
    }
   ],
   "source": []
  }
 ],
 "metadata": {
  "kernelspec": {
   "display_name": "Python 3",
   "language": "python",
   "name": "python3"
  },
  "language_info": {
   "codemirror_mode": {
    "name": "ipython",
    "version": 3
   },
   "file_extension": ".py",
   "mimetype": "text/x-python",
   "name": "python",
   "nbconvert_exporter": "python",
   "pygments_lexer": "ipython3",
   "version": "3.10.12"
  }
 },
 "nbformat": 4,
 "nbformat_minor": 2
}
