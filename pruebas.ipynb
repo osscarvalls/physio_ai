{
 "cells": [
  {
   "cell_type": "code",
   "execution_count": 8,
   "metadata": {},
   "outputs": [],
   "source": [
    "import os\n",
    "from dotenv import load_dotenv\n",
    "from langchain_openai import ChatOpenAI\n",
    "from langchain.prompts import ChatPromptTemplate\n",
    "from Bio import Entrez"
   ]
  },
  {
   "cell_type": "markdown",
   "metadata": {},
   "source": [
    "Set openai API keys"
   ]
  },
  {
   "cell_type": "code",
   "execution_count": 9,
   "metadata": {},
   "outputs": [],
   "source": [
    "load_dotenv()\n",
    "OPENAI_API_KEY = os.getenv('OPENAI_API_KEY')\n",
    "os.environ['OPENAI_API_KEY'] = OPENAI_API_KEY"
   ]
  },
  {
   "cell_type": "markdown",
   "metadata": {},
   "source": [
    "Test LLM"
   ]
  },
  {
   "cell_type": "code",
   "execution_count": 10,
   "metadata": {},
   "outputs": [],
   "source": [
    "llm = ChatOpenAI(model='gpt-4o-mini',temperature=0)"
   ]
  },
  {
   "cell_type": "markdown",
   "metadata": {},
   "source": [
    "Generar search queries"
   ]
  },
  {
   "cell_type": "code",
   "execution_count": 11,
   "metadata": {},
   "outputs": [],
   "source": [
    "symptoms = \"Ayer entrené en el gimnasio y tengo un hormigueo que me empieza en la parte baja de la espalda y baja por la pierna derecha.\"\n",
    "\n",
    "pm_search_prompt = 'Eres un investigador avanzado en fisioterapia. Tu tarea es buscar papers en PubMed para encontrar un \\\n",
    "                    diagnóstico y tratamiento de fisioterapia para los siguientes síntomas: \"{symptoms}\" \\\n",
    "                    Dime 10 entradas de búsqueda que pondrías en la web de pubmed para encontrar papers sobre los síntomas. \\\n",
    "                    No emplees combinaciones como OR o AND, dime únicamente las palabras clave de búsqueda en ingles.\\\n",
    "                    Devuelve únicamente las entradas de búsqueda como una lista con el siguiente formato: [entry1,entry2,...], no digas nada más.'\n",
    "\n",
    "pm_search_template = ChatPromptTemplate.from_template(pm_search_prompt)"
   ]
  },
  {
   "cell_type": "markdown",
   "metadata": {},
   "source": [
    "Function to search pubmed articles"
   ]
  },
  {
   "cell_type": "code",
   "execution_count": 12,
   "metadata": {},
   "outputs": [
    {
     "name": "stdout",
     "output_type": "stream",
     "text": [
      "['lower back pain', 'tingling leg', 'lumbar radiculopathy', 'sciatica', 'physical therapy treatment', 'nerve compression', 'exercise-induced pain', 'rehabilitation exercises', 'myofascial pain syndrome', 'neurological symptoms']\n"
     ]
    }
   ],
   "source": [
    "def generate_search(pm_search_template,symptoms,llm):\n",
    "    pm_search_llm = pm_search_template | llm\n",
    "    search_entries = pm_search_llm.invoke({'symptoms':symptoms})\n",
    "    return search_entries.content\n",
    "search_entries = generate_search(pm_search_template,symptoms,llm).replace('[','').replace(']','').replace(\"'\",\"\").split(', ')\n",
    "print((search_entries))"
   ]
  },
  {
   "cell_type": "markdown",
   "metadata": {},
   "source": [
    "Search in pubmed API"
   ]
  },
  {
   "cell_type": "code",
   "execution_count": 13,
   "metadata": {},
   "outputs": [
    {
     "name": "stdout",
     "output_type": "stream",
     "text": [
      "1) Neck Pain and Lower Back Pain.\n",
      "2) Chronic Lower Back Pain in Weight Lifters: Epidemiology, Evaluation, and Management.\n",
      "3) Clinical outcomes and cost-effectiveness of massage chair therapy versus basic physiotherapy in lower back pain patients: A randomized controlled trial.\n",
      "4) Acute Lumbar Back Pain.\n",
      "5) Treatment and ergonomics training of work-related lower back pain and body posture problems for nurses.\n"
     ]
    }
   ],
   "source": [
    "def search(entry):\n",
    "    Entrez.email = 'oscarvallslozano@gmail.com'\n",
    "    handle = Entrez.esearch(db='pubmed',\n",
    "                            sort='relevance',\n",
    "                            retmax='5',\n",
    "                            retmode='xml',\n",
    "                            term=entry)\n",
    "    results = Entrez.read(handle)\n",
    "    return results\n",
    "\n",
    "def fetch_details(id_list):\n",
    "    ids = ','.join(id_list)\n",
    "    Entrez.email = 'oscarvallslozano@gmail.com'\n",
    "    handle = Entrez.efetch(db='pubmed',\n",
    "                           retmode='xml',\n",
    "                           id=ids)\n",
    "    results = Entrez.read(handle)\n",
    "    return results\n",
    "\n",
    "\n",
    "results = search(search_entries[0])\n",
    "id_list = results['IdList']\n",
    "papers = fetch_details(id_list)\n",
    "for i, paper in enumerate(papers['PubmedArticle']):\n",
    "        print(\"{}) {}\".format(i+1, paper['MedlineCitation']['Article']['ArticleTitle']))\n"
   ]
  },
  {
   "cell_type": "code",
   "execution_count": 16,
   "metadata": {},
   "outputs": [],
   "source": [
    "for paper in papers['PubmedArticle']:\n",
    "    paper_id = paper['MedlineCitation']['PMID']\n",
    "    paper_title = paper['MedlineCitation']['Article']['ArticleTitle']\n",
    "    abstract_text = paper['MedlineCitation']['Article']['Abstract']['AbstractText']\n",
    "    if not os.path.isfile(f'./docs/{paper_id}.txt'):\n",
    "        with open(file=f'./docs/{paper_id}.txt',mode='w') as f:\n",
    "            f.write(f\"Title: {paper_title}\\n\")\n",
    "            f.write(f\"Abstract: {abstract_text}\")\n",
    "    else:\n",
    "        continue"
   ]
  },
  {
   "cell_type": "code",
   "execution_count": 20,
   "metadata": {},
   "outputs": [],
   "source": [
    "from langchain_community.document_loaders import DirectoryLoader\n",
    "\n",
    "loader = DirectoryLoader(\"./docs\",glob=\"**/*.txt\")\n",
    "docs = loader.load()"
   ]
  },
  {
   "cell_type": "code",
   "execution_count": 21,
   "metadata": {},
   "outputs": [
    {
     "data": {
      "text/plain": [
       "19"
      ]
     },
     "execution_count": 21,
     "metadata": {},
     "output_type": "execute_result"
    }
   ],
   "source": [
    "from langchain_text_splitters import RecursiveCharacterTextSplitter\n",
    "\n",
    "text_splitter = RecursiveCharacterTextSplitter(\n",
    "    chunk_size=1000, chunk_overlap=200, add_start_index=True\n",
    ")\n",
    "all_splits = text_splitter.split_documents(docs)\n",
    "\n",
    "len(all_splits)"
   ]
  },
  {
   "cell_type": "code",
   "execution_count": 22,
   "metadata": {},
   "outputs": [],
   "source": [
    "from langchain_chroma import Chroma\n",
    "from langchain_openai import OpenAIEmbeddings\n",
    "\n",
    "vectorstore = Chroma.from_documents(documents=all_splits, embedding=OpenAIEmbeddings())"
   ]
  },
  {
   "cell_type": "code",
   "execution_count": 24,
   "metadata": {},
   "outputs": [
    {
     "ename": "TypeError",
     "evalue": "BaseRetriever.invoke() missing 1 required positional argument: 'input'",
     "output_type": "error",
     "traceback": [
      "\u001b[0;31m---------------------------------------------------------------------------\u001b[0m",
      "\u001b[0;31mTypeError\u001b[0m                                 Traceback (most recent call last)",
      "Cell \u001b[0;32mIn[24], line 3\u001b[0m\n\u001b[1;32m      1\u001b[0m retriever \u001b[38;5;241m=\u001b[39m vectorstore\u001b[38;5;241m.\u001b[39mas_retriever(search_type\u001b[38;5;241m=\u001b[39m\u001b[38;5;124m\"\u001b[39m\u001b[38;5;124msimilarity\u001b[39m\u001b[38;5;124m\"\u001b[39m, search_kwargs\u001b[38;5;241m=\u001b[39m{\u001b[38;5;124m\"\u001b[39m\u001b[38;5;124mk\u001b[39m\u001b[38;5;124m\"\u001b[39m: \u001b[38;5;241m6\u001b[39m})\n\u001b[0;32m----> 3\u001b[0m retrieved_docs \u001b[38;5;241m=\u001b[39m \u001b[43mretriever\u001b[49m\u001b[38;5;241;43m.\u001b[39;49m\u001b[43minvoke\u001b[49m\u001b[43m(\u001b[49m\u001b[43m)\u001b[49m\n\u001b[1;32m      5\u001b[0m \u001b[38;5;28mlen\u001b[39m(retrieved_docs)\n",
      "\u001b[0;31mTypeError\u001b[0m: BaseRetriever.invoke() missing 1 required positional argument: 'input'"
     ]
    }
   ],
   "source": [
    "retriever = vectorstore.as_retriever(search_type=\"similarity\", search_kwargs={\"k\": 6})\n",
    "\n",
    "diagnosis_template = \"\"\"\n",
    "You are a senior physiotherapist and you received a patient with the following {symptoms}. You have found the following scientific evidence related to the patient's case: {context}\n",
    "Your task is to evaluate the case and suggest possible diagnosis and treatments to apply to the patient.\n",
    "\"\"\"\n",
    "\n",
    "rag_chain = (\"context\": retriever)\n",
    "\n",
    "\n",
    "\n",
    "retrieved_docs = retriever.invoke()\n",
    "\n",
    "len(retrieved_docs)"
   ]
  }
 ],
 "metadata": {
  "kernelspec": {
   "display_name": "Python 3",
   "language": "python",
   "name": "python3"
  },
  "language_info": {
   "codemirror_mode": {
    "name": "ipython",
    "version": 3
   },
   "file_extension": ".py",
   "mimetype": "text/x-python",
   "name": "python",
   "nbconvert_exporter": "python",
   "pygments_lexer": "ipython3",
   "version": "3.10.12"
  }
 },
 "nbformat": 4,
 "nbformat_minor": 2
}
