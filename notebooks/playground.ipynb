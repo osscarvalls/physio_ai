{
 "cells": [
  {
   "cell_type": "code",
   "execution_count": 16,
   "metadata": {},
   "outputs": [],
   "source": [
    "import os\n",
    "from dotenv import load_dotenv\n",
    "from langchain_openai import ChatOpenAI\n",
    "from langchain.prompts import ChatPromptTemplate\n",
    "from Bio import Entrez"
   ]
  },
  {
   "cell_type": "markdown",
   "metadata": {},
   "source": [
    "Set openai API keys"
   ]
  },
  {
   "cell_type": "code",
   "execution_count": 17,
   "metadata": {},
   "outputs": [],
   "source": [
    "load_dotenv()\n",
    "OPENAI_API_KEY = os.getenv('OPENAI_API_KEY')\n",
    "os.environ['OPENAI_API_KEY'] = OPENAI_API_KEY"
   ]
  },
  {
   "cell_type": "markdown",
   "metadata": {},
   "source": [
    "Test LLM"
   ]
  },
  {
   "cell_type": "code",
   "execution_count": 18,
   "metadata": {},
   "outputs": [],
   "source": [
    "llm = ChatOpenAI(model='gpt-4o-mini',temperature=0)"
   ]
  },
  {
   "cell_type": "markdown",
   "metadata": {},
   "source": [
    "Generar search queries"
   ]
  },
  {
   "cell_type": "code",
   "execution_count": 19,
   "metadata": {},
   "outputs": [],
   "source": [
    "symptoms = \"Ayer entrené en el gimnasio y tengo un hormigueo que me empieza en la parte baja de la espalda y baja por la pierna derecha.\"\n",
    "\n",
    "pm_search_prompt = 'Eres un investigador avanzado en fisioterapia. Tu tarea es buscar papers en PubMed para encontrar un \\\n",
    "                    diagnóstico y tratamiento de fisioterapia para los siguientes síntomas: \"{symptoms}\" \\\n",
    "                    Dime 10 entradas de búsqueda que pondrías en la web de pubmed para encontrar papers sobre los síntomas. \\\n",
    "                    No emplees combinaciones como OR o AND, dime únicamente las palabras clave de búsqueda en ingles.\\\n",
    "                    Devuelve únicamente las entradas de búsqueda como una lista con el siguiente formato: [entry1,entry2,...], no digas nada más.'\n",
    "\n",
    "pm_search_template = ChatPromptTemplate.from_template(pm_search_prompt)"
   ]
  },
  {
   "cell_type": "markdown",
   "metadata": {},
   "source": [
    "Function to search pubmed articles"
   ]
  },
  {
   "cell_type": "code",
   "execution_count": 24,
   "metadata": {},
   "outputs": [
    {
     "name": "stdout",
     "output_type": "stream",
     "text": [
      "['lower back pain', 'tingling leg', 'lumbar radiculopathy', 'sciatica', 'physical therapy treatment', 'nerve compression', 'exercise-induced pain', 'rehabilitation exercises', 'myofascial pain syndrome', 'neurological symptoms']\n"
     ]
    }
   ],
   "source": [
    "def generate_search(pm_search_template,symptoms,llm):\n",
    "    pm_search_llm = pm_search_template | llm\n",
    "    search_entries = pm_search_llm.invoke({'symptoms':symptoms})\n",
    "    return search_entries.content\n",
    "search_entries = generate_search(pm_search_template,symptoms,llm).replace('[','').replace(']','').replace(\"'\",\"\").split(', ')\n",
    "print((search_entries))"
   ]
  },
  {
   "cell_type": "markdown",
   "metadata": {},
   "source": [
    "Search in pubmed API"
   ]
  },
  {
   "cell_type": "code",
   "execution_count": 25,
   "metadata": {},
   "outputs": [
    {
     "name": "stdout",
     "output_type": "stream",
     "text": [
      "1) Neck Pain and Lower Back Pain.\n",
      "2) Chronic Lower Back Pain in Weight Lifters: Epidemiology, Evaluation, and Management.\n",
      "3) Clinical outcomes and cost-effectiveness of massage chair therapy versus basic physiotherapy in lower back pain patients: A randomized controlled trial.\n",
      "4) Acute Lumbar Back Pain.\n",
      "5) Treatment and ergonomics training of work-related lower back pain and body posture problems for nurses.\n"
     ]
    }
   ],
   "source": [
    "def search(entry):\n",
    "    Entrez.email = os.getenv('ENTREZ_EMAIL')\n",
    "    handle = Entrez.esearch(db='pubmed',\n",
    "                            sort='relevance',\n",
    "                            retmax='5',\n",
    "                            retmode='xml',\n",
    "                            term=entry)\n",
    "    results = Entrez.read(handle)\n",
    "    return results\n",
    "\n",
    "def fetch_details(id_list):\n",
    "    ids = ','.join(id_list)\n",
    "    Entrez.email = os.getenv('ENTREZ_EMAIL')\n",
    "    handle = Entrez.efetch(db='pubmed',\n",
    "                           retmode='xml',\n",
    "                           id=ids)\n",
    "    results = Entrez.read(handle)\n",
    "    return results\n",
    "\n",
    "\n",
    "results = search(search_entries[0])\n",
    "id_list = results['IdList']\n",
    "papers = fetch_details(id_list)\n",
    "for i, paper in enumerate(papers['PubmedArticle']):\n",
    "        print(\"{}) {}\".format(i+1, paper['MedlineCitation']['Article']['ArticleTitle']))\n"
   ]
  },
  {
   "cell_type": "code",
   "execution_count": 26,
   "metadata": {},
   "outputs": [],
   "source": [
    "for paper in papers['PubmedArticle']:\n",
    "    paper_id = paper['MedlineCitation']['PMID']\n",
    "    paper_title = paper['MedlineCitation']['Article']['ArticleTitle']\n",
    "    abstract_text = paper['MedlineCitation']['Article']['Abstract']['AbstractText']\n",
    "    if not os.path.isfile(f'./docs/{paper_id}.txt'):\n",
    "        with open(file=f'./docs/{paper_id}.txt',mode='w') as f:\n",
    "            f.write(f\"Title: {paper_title}\\n\")\n",
    "            f.write(f\"Abstract: {abstract_text}\")\n",
    "    else:\n",
    "        continue"
   ]
  },
  {
   "cell_type": "code",
   "execution_count": 27,
   "metadata": {},
   "outputs": [],
   "source": [
    "from langchain_community.document_loaders import DirectoryLoader\n",
    "\n",
    "loader = DirectoryLoader(\"./docs\",glob=\"**/*.txt\")\n",
    "docs = loader.load()"
   ]
  },
  {
   "cell_type": "code",
   "execution_count": 28,
   "metadata": {},
   "outputs": [
    {
     "data": {
      "text/plain": [
       "19"
      ]
     },
     "execution_count": 28,
     "metadata": {},
     "output_type": "execute_result"
    }
   ],
   "source": [
    "from langchain_text_splitters import RecursiveCharacterTextSplitter\n",
    "\n",
    "text_splitter = RecursiveCharacterTextSplitter(\n",
    "    chunk_size=1000, chunk_overlap=200, add_start_index=True\n",
    ")\n",
    "all_splits = text_splitter.split_documents(docs)\n",
    "\n",
    "len(all_splits)"
   ]
  },
  {
   "cell_type": "code",
   "execution_count": 29,
   "metadata": {},
   "outputs": [],
   "source": [
    "from langchain_chroma import Chroma\n",
    "from langchain_openai import OpenAIEmbeddings\n",
    "\n",
    "vectorstore = Chroma.from_documents(documents=all_splits, embedding=OpenAIEmbeddings())"
   ]
  },
  {
   "cell_type": "code",
   "execution_count": 42,
   "metadata": {},
   "outputs": [
    {
     "name": "stdout",
     "output_type": "stream",
     "text": [
      "Number of retrieved documents: 10\n",
      "**Diagnóstico:**\n",
      "\n",
      "Basado en los síntomas de dolor y rigidez en la parte baja de la espalda, así como en la evidencia científica revisada, se pueden considerar las siguientes posibles lesiones o dolencias, ordenadas por gravedad:\n",
      "\n",
      "1. **Esguince muscular o de ligamentos**: Esta es una de las causas más comunes de dolor lumbar, especialmente en personas que levantan pesas. Puede ser resultado de un levantamiento inadecuado o de un esfuerzo excesivo. Se puede diagnosticar a través de una evaluación clínica que incluya la historia del paciente y un examen físico.\n",
      "\n",
      "2. **Síndrome facetario lumbar**: Este síndrome se refiere al dolor que proviene de las articulaciones facetarias de la columna. Es común en levantadores de pesas debido a la carga repetitiva en la columna. La evaluación clínica y la palpación de las articulaciones facetarias pueden ayudar a confirmar este diagnóstico.\n",
      "\n",
      "3. **Hernia de disco**: Esta condición ocurre cuando el material del disco intervertebral se desplaza y presiona sobre los nervios. Puede causar dolor radicular, además del dolor lumbar. Para confirmar este diagnóstico, se puede requerir una resonancia magnética (RM) si hay síntomas neurológicos asociados.\n",
      "\n",
      "4. **Espondilolistesis**: Esta condición implica el deslizamiento de una vértebra sobre otra, lo que puede causar dolor lumbar y rigidez. Se puede sospechar en base a la historia clínica y el examen físico, y se confirmaría mediante estudios de imagen como radiografías o RM.\n",
      "\n",
      "5. **Enfermedad degenerativa del disco**: Esta es una condición más severa que puede resultar de un desgaste progresivo de los discos intervertebrales. Se puede diagnosticar a través de una evaluación clínica y estudios de imagen.\n",
      "\n",
      "Es importante que el fisioterapeuta realice una evaluación exhaustiva para descartar condiciones más graves, como fracturas, infecciones o tumores, especialmente si el dolor es intenso o persistente.\n",
      "\n",
      "**Tratamiento:**\n",
      "\n",
      "1. **Terapia física**: Se recomienda iniciar con terapia física que incluya técnicas de movilización y manipulación para aliviar el dolor y mejorar la movilidad. La educación del paciente sobre la ergonomía y la técnica adecuada para levantar pesas es crucial.\n",
      "\n",
      "2. **Ejercicios de fortalecimiento**: Se pueden incluir ejercicios específicos para fortalecer los músculos del core y la espalda baja, lo que puede ayudar a prevenir futuras lesiones.\n",
      "\n",
      "3. **Terapia manual**: La terapia manual puede ser útil para reducir la tensión muscular y mejorar la movilidad articular.\n",
      "\n",
      "4. **Uso de medicamentos antiinflamatorios no esteroides (AINEs)**: Si el dolor es significativo, se puede considerar el uso de AINEs para ayudar a controlar la inflamación y el dolor.\n",
      "\n",
      "**Ejercicios:**\n",
      "\n",
      "1. **Estiramientos de la espalda baja**: Ejercicios como el estiramiento de rodillas al pecho o el estiramiento del piriforme pueden ayudar a aliviar la tensión en la parte baja de la espalda.\n",
      "\n",
      "2. **Fortalecimiento del core**: Ejercicios como planchas, puentes y ejercicios de estabilidad en una pelota suiza son excelentes para fortalecer los músculos del abdomen y la espalda baja.\n",
      "\n",
      "3. **Movilidad de la cadera**: Ejercicios que mejoren la movilidad de la cadera, como giros de cadera y estiramientos de los flexores de la cadera, pueden ser beneficiosos.\n",
      "\n",
      "4. **Ejercicios de técnica de levantamiento**: Practicar la técnica adecuada para levantar pesas, como el levantamiento de peso muerto con una forma correcta, es esencial para prevenir lesiones futuras.\n",
      "\n",
      "Es fundamental que el paciente realice estos ejercicios de manera regular y bajo la supervisión de un fisioterapeuta para asegurar que se están realizando correctamente y para evitar cualquier riesgo de lesión adicional.\n"
     ]
    }
   ],
   "source": [
    "retriever = vectorstore.as_retriever(search_type=\"similarity\", search_kwargs={\"k\": 10})\n",
    "\n",
    "diagnosis_template = \"\"\"\n",
    "You are a physiotherapist diagnosis assistance system and you received a patient with the following symptoms:{symptoms}. \n",
    "You have found the following scientific evidence related to the patient's case: {context}\n",
    "Your task is to evaluate the case and suggest possible diagnosis and treatments to apply to the patient.\n",
    "This suggestions will be read by the physiotherapist to be able to take faster decisions prior to the session with the patient.\n",
    "The answer should be formatted with the following items:\n",
    "    * Diagnosis: Propose injuries or dolencies that could be diagnosed by the patient judging by their symptoms and evidence found.\n",
    "                 Propose different injuries sorted by increased severity.\n",
    "                 If the injuries are severe, also suggest a way to be diagnosed or discarded by the physiotherapist.\n",
    "    * Treatment: Propose some treatments that may be helpful to apply during the physiotherapy session.\n",
    "    * Exercises: Suggest exercises that the patient shoud be doing after the session to recover or prevent further injuries.\n",
    "Answer in spanish with long and developed reasoning.\n",
    "\"\"\"\n",
    "# Fix the retriever invocation\n",
    "retrieved_docs = retriever.invoke(symptoms)\n",
    "\n",
    "# Print the number of retrieved documents\n",
    "print(f\"Number of retrieved documents: {len(retrieved_docs)}\")\n",
    "\n",
    "# Create the RAG chain\n",
    "from langchain.prompts import PromptTemplate\n",
    "from langchain.chains import LLMChain\n",
    "\n",
    "# Create the prompt template\n",
    "prompt = PromptTemplate(\n",
    "    input_variables=[\"symptoms\", \"context\"],\n",
    "    template=diagnosis_template\n",
    ")\n",
    "\n",
    "# Create the RAG chain\n",
    "rag_chain = LLMChain(\n",
    "    llm=llm,\n",
    "    prompt=prompt,\n",
    "    verbose=False\n",
    ")\n",
    "\n",
    "# Example usage of the RAG chain\n",
    "symptoms = \"lower back pain and stiffness\"\n",
    "context = \"\\n\".join([doc.page_content for doc in retrieved_docs])\n",
    "result = rag_chain.invoke({\"symptoms\": symptoms, \"context\": context})\n",
    "\n",
    "print(result['text'])\n"
   ]
  }
 ],
 "metadata": {
  "kernelspec": {
   "display_name": "Python 3",
   "language": "python",
   "name": "python3"
  },
  "language_info": {
   "codemirror_mode": {
    "name": "ipython",
    "version": 3
   },
   "file_extension": ".py",
   "mimetype": "text/x-python",
   "name": "python",
   "nbconvert_exporter": "python",
   "pygments_lexer": "ipython3",
   "version": "3.10.12"
  }
 },
 "nbformat": 4,
 "nbformat_minor": 2
}
